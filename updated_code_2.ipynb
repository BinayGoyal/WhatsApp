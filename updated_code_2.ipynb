{
 "cells": [
  {
   "cell_type": "code",
   "execution_count": 5,
   "id": "systematic-portugal",
   "metadata": {},
   "outputs": [],
   "source": [
    "from appium import webdriver\n",
    "import time\n",
    "from appium.webdriver.common.touch_action import TouchAction\n",
    "import psycopg2\n",
    "import psycopg2.extras"
   ]
  },
  {
   "cell_type": "code",
   "execution_count": 6,
   "id": "consolidated-litigation",
   "metadata": {},
   "outputs": [],
   "source": [
    "desired_caps = {\n",
    "  \"deviceName\": \"RZ8M930FHWY\",\n",
    "  \"platformName\": \"android\",\n",
    "  \"appPackage\": \"com.whatsapp\",\n",
    "  \"appActivity\": \"com.whatsapp.Main\",\n",
    "  \"noReset\": True,\n",
    "  \"newCommandTimeout\": 100000\n",
    "}"
   ]
  },
  {
   "cell_type": "code",
   "execution_count": 7,
   "id": "unknown-handling",
   "metadata": {},
   "outputs": [],
   "source": [
    "driver = webdriver.Remote('http://127.0.0.1:4723/wd/hub',desired_caps)"
   ]
  },
  {
   "cell_type": "code",
   "execution_count": 7,
   "id": "professional-copyright",
   "metadata": {},
   "outputs": [],
   "source": [
    "#########################################\n",
    "###  search a contact from the chats  ###\n",
    "#########################################\n",
    "\n",
    "def search(contact):\n",
    "    el1 = driver.find_element_by_accessibility_id(\"Search\")\n",
    "    el1.click()\n",
    "\n",
    "    time.sleep(1)\n",
    "    \n",
    "    el2 = driver.find_element_by_id(\"com.whatsapp:id/search_input\")\n",
    "    el2.click()\n",
    "\n",
    "    time.sleep(1)\n",
    "\n",
    "    el2.send_keys(contact)\n"
   ]
  },
  {
   "cell_type": "code",
   "execution_count": 13,
   "id": "wrapped-premium",
   "metadata": {},
   "outputs": [],
   "source": []
  },
  {
   "cell_type": "code",
   "execution_count": 15,
   "id": "fifteen-prayer",
   "metadata": {},
   "outputs": [
    {
     "name": "stdout",
     "output_type": "stream",
     "text": [
      "Receiver's contact name:akshita\n",
      "Your message:lappad khaane?\n"
     ]
    }
   ],
   "source": [
    "#################################################\n",
    "###  sending message to a particular contact  ###\n",
    "#################################################\n",
    "\n",
    "contact=input(\"Receiver's contact name:\")\n",
    "message=input(\"Your message:\")\n",
    "\n",
    "# calling search function\n",
    "search(contact)\n",
    "\n",
    "el5 = driver.find_element_by_xpath(\"/hierarchy/android.widget.FrameLayout/android.widget.LinearLayout/android.widget.FrameLayout/android.widget.FrameLayout/android.widget.FrameLayout/android.widget.FrameLayout/android.widget.LinearLayout/android.widget.FrameLayout/android.widget.FrameLayout[2]/android.widget.LinearLayout/androidx.recyclerview.widget.RecyclerView/android.widget.RelativeLayout[1]\")\n",
    "el5.click()\n",
    "el6 = driver.find_element_by_id(\"com.whatsapp:id/entry\")\n",
    "el6.click()\n",
    "\n",
    "el6.send_keys(message)\n",
    "\n",
    "# tapping send button\n",
    "el7 = driver.find_element_by_accessibility_id(\"Send\")\n",
    "el7.click()\n",
    "\n",
    "# going back to home page \n",
    "el8 = driver.find_element_by_id(\"com.whatsapp:id/whatsapp_toolbar_home\")\n",
    "el8.click()"
   ]
  },
  {
   "cell_type": "code",
   "execution_count": 5,
   "id": "acute-reservoir",
   "metadata": {},
   "outputs": [
    {
     "name": "stdout",
     "output_type": "stream",
     "text": [
      "Forward to: stuff\n"
     ]
    },
    {
     "ename": "NoSuchElementException",
     "evalue": "Message: An element could not be located on the page using the given search parameters.\n",
     "output_type": "error",
     "traceback": [
      "\u001b[1;31m---------------------------------------------------------------------------\u001b[0m",
      "\u001b[1;31mNoSuchElementException\u001b[0m                    Traceback (most recent call last)",
      "\u001b[1;32m<ipython-input-5-dcde72499aa3>\u001b[0m in \u001b[0;36m<module>\u001b[1;34m\u001b[0m\n\u001b[0;32m     23\u001b[0m \u001b[0mtime\u001b[0m\u001b[1;33m.\u001b[0m\u001b[0msleep\u001b[0m\u001b[1;33m(\u001b[0m\u001b[1;36m1\u001b[0m\u001b[1;33m)\u001b[0m\u001b[1;33m\u001b[0m\u001b[1;33m\u001b[0m\u001b[0m\n\u001b[0;32m     24\u001b[0m \u001b[1;33m\u001b[0m\u001b[0m\n\u001b[1;32m---> 25\u001b[1;33m \u001b[0mel6\u001b[0m \u001b[1;33m=\u001b[0m \u001b[0mdriver\u001b[0m\u001b[1;33m.\u001b[0m\u001b[0mfind_element_by_accessibility_id\u001b[0m\u001b[1;33m(\u001b[0m\u001b[1;34m\"Search\"\u001b[0m\u001b[1;33m)\u001b[0m\u001b[1;33m\u001b[0m\u001b[1;33m\u001b[0m\u001b[0m\n\u001b[0m\u001b[0;32m     26\u001b[0m \u001b[0mel6\u001b[0m\u001b[1;33m.\u001b[0m\u001b[0mclick\u001b[0m\u001b[1;33m(\u001b[0m\u001b[1;33m)\u001b[0m\u001b[1;33m\u001b[0m\u001b[1;33m\u001b[0m\u001b[0m\n\u001b[0;32m     27\u001b[0m \u001b[1;33m\u001b[0m\u001b[0m\n",
      "\u001b[1;32mc:\\users\\binay goyal\\appdata\\local\\programs\\python\\python37-32\\lib\\site-packages\\appium\\webdriver\\extensions\\search_context\\mobile.py\u001b[0m in \u001b[0;36mfind_element_by_accessibility_id\u001b[1;34m(self, accessibility_id)\u001b[0m\n\u001b[0;32m     45\u001b[0m \u001b[1;33m\u001b[0m\u001b[0m\n\u001b[0;32m     46\u001b[0m         \"\"\"\n\u001b[1;32m---> 47\u001b[1;33m         \u001b[1;32mreturn\u001b[0m \u001b[0mself\u001b[0m\u001b[1;33m.\u001b[0m\u001b[0mfind_element\u001b[0m\u001b[1;33m(\u001b[0m\u001b[0mby\u001b[0m\u001b[1;33m=\u001b[0m\u001b[0mMobileBy\u001b[0m\u001b[1;33m.\u001b[0m\u001b[0mACCESSIBILITY_ID\u001b[0m\u001b[1;33m,\u001b[0m \u001b[0mvalue\u001b[0m\u001b[1;33m=\u001b[0m\u001b[0maccessibility_id\u001b[0m\u001b[1;33m)\u001b[0m\u001b[1;33m\u001b[0m\u001b[1;33m\u001b[0m\u001b[0m\n\u001b[0m\u001b[0;32m     48\u001b[0m \u001b[1;33m\u001b[0m\u001b[0m\n\u001b[0;32m     49\u001b[0m     \u001b[1;32mdef\u001b[0m \u001b[0mfind_elements_by_accessibility_id\u001b[0m\u001b[1;33m(\u001b[0m\u001b[0mself\u001b[0m\u001b[1;33m:\u001b[0m \u001b[0mT\u001b[0m\u001b[1;33m,\u001b[0m \u001b[0maccessibility_id\u001b[0m\u001b[1;33m:\u001b[0m \u001b[0mstr\u001b[0m\u001b[1;33m)\u001b[0m \u001b[1;33m->\u001b[0m \u001b[0mList\u001b[0m\u001b[1;33m[\u001b[0m\u001b[1;34m'WebElement'\u001b[0m\u001b[1;33m]\u001b[0m\u001b[1;33m:\u001b[0m\u001b[1;33m\u001b[0m\u001b[1;33m\u001b[0m\u001b[0m\n",
      "\u001b[1;32mc:\\users\\binay goyal\\appdata\\local\\programs\\python\\python37-32\\lib\\site-packages\\appium\\webdriver\\webdriver.py\u001b[0m in \u001b[0;36mfind_element\u001b[1;34m(self, by, value)\u001b[0m\n\u001b[0;32m    281\u001b[0m         \u001b[1;31m#         value = '[name=\"%s\"]' % value\u001b[0m\u001b[1;33m\u001b[0m\u001b[1;33m\u001b[0m\u001b[1;33m\u001b[0m\u001b[0m\n\u001b[0;32m    282\u001b[0m \u001b[1;33m\u001b[0m\u001b[0m\n\u001b[1;32m--> 283\u001b[1;33m         \u001b[1;32mreturn\u001b[0m \u001b[0mself\u001b[0m\u001b[1;33m.\u001b[0m\u001b[0mexecute\u001b[0m\u001b[1;33m(\u001b[0m\u001b[0mRemoteCommand\u001b[0m\u001b[1;33m.\u001b[0m\u001b[0mFIND_ELEMENT\u001b[0m\u001b[1;33m,\u001b[0m \u001b[1;33m{\u001b[0m\u001b[1;34m'using'\u001b[0m\u001b[1;33m:\u001b[0m \u001b[0mby\u001b[0m\u001b[1;33m,\u001b[0m \u001b[1;34m'value'\u001b[0m\u001b[1;33m:\u001b[0m \u001b[0mvalue\u001b[0m\u001b[1;33m}\u001b[0m\u001b[1;33m)\u001b[0m\u001b[1;33m[\u001b[0m\u001b[1;34m'value'\u001b[0m\u001b[1;33m]\u001b[0m\u001b[1;33m\u001b[0m\u001b[1;33m\u001b[0m\u001b[0m\n\u001b[0m\u001b[0;32m    284\u001b[0m \u001b[1;33m\u001b[0m\u001b[0m\n\u001b[0;32m    285\u001b[0m     \u001b[1;32mdef\u001b[0m \u001b[0mfind_elements\u001b[0m\u001b[1;33m(\u001b[0m\u001b[0mself\u001b[0m\u001b[1;33m,\u001b[0m \u001b[0mby\u001b[0m\u001b[1;33m:\u001b[0m \u001b[0mstr\u001b[0m \u001b[1;33m=\u001b[0m \u001b[0mBy\u001b[0m\u001b[1;33m.\u001b[0m\u001b[0mID\u001b[0m\u001b[1;33m,\u001b[0m \u001b[0mvalue\u001b[0m\u001b[1;33m:\u001b[0m \u001b[0mUnion\u001b[0m\u001b[1;33m[\u001b[0m\u001b[0mstr\u001b[0m\u001b[1;33m,\u001b[0m \u001b[0mDict\u001b[0m\u001b[1;33m]\u001b[0m \u001b[1;33m=\u001b[0m \u001b[1;32mNone\u001b[0m\u001b[1;33m)\u001b[0m \u001b[1;33m->\u001b[0m \u001b[0mUnion\u001b[0m\u001b[1;33m[\u001b[0m\u001b[0mList\u001b[0m\u001b[1;33m[\u001b[0m\u001b[0mMobileWebElement\u001b[0m\u001b[1;33m]\u001b[0m\u001b[1;33m,\u001b[0m \u001b[0mList\u001b[0m\u001b[1;33m]\u001b[0m\u001b[1;33m:\u001b[0m\u001b[1;33m\u001b[0m\u001b[1;33m\u001b[0m\u001b[0m\n",
      "\u001b[1;32mc:\\users\\binay goyal\\appdata\\local\\programs\\python\\python37-32\\lib\\site-packages\\selenium\\webdriver\\remote\\webdriver.py\u001b[0m in \u001b[0;36mexecute\u001b[1;34m(self, driver_command, params)\u001b[0m\n\u001b[0;32m    319\u001b[0m         \u001b[0mresponse\u001b[0m \u001b[1;33m=\u001b[0m \u001b[0mself\u001b[0m\u001b[1;33m.\u001b[0m\u001b[0mcommand_executor\u001b[0m\u001b[1;33m.\u001b[0m\u001b[0mexecute\u001b[0m\u001b[1;33m(\u001b[0m\u001b[0mdriver_command\u001b[0m\u001b[1;33m,\u001b[0m \u001b[0mparams\u001b[0m\u001b[1;33m)\u001b[0m\u001b[1;33m\u001b[0m\u001b[1;33m\u001b[0m\u001b[0m\n\u001b[0;32m    320\u001b[0m         \u001b[1;32mif\u001b[0m \u001b[0mresponse\u001b[0m\u001b[1;33m:\u001b[0m\u001b[1;33m\u001b[0m\u001b[1;33m\u001b[0m\u001b[0m\n\u001b[1;32m--> 321\u001b[1;33m             \u001b[0mself\u001b[0m\u001b[1;33m.\u001b[0m\u001b[0merror_handler\u001b[0m\u001b[1;33m.\u001b[0m\u001b[0mcheck_response\u001b[0m\u001b[1;33m(\u001b[0m\u001b[0mresponse\u001b[0m\u001b[1;33m)\u001b[0m\u001b[1;33m\u001b[0m\u001b[1;33m\u001b[0m\u001b[0m\n\u001b[0m\u001b[0;32m    322\u001b[0m             response['value'] = self._unwrap_value(\n\u001b[0;32m    323\u001b[0m                 response.get('value', None))\n",
      "\u001b[1;32mc:\\users\\binay goyal\\appdata\\local\\programs\\python\\python37-32\\lib\\site-packages\\appium\\webdriver\\errorhandler.py\u001b[0m in \u001b[0;36mcheck_response\u001b[1;34m(self, response)\u001b[0m\n\u001b[0;32m     29\u001b[0m                 \u001b[1;32mraise\u001b[0m \u001b[0mNoSuchContextException\u001b[0m\u001b[1;33m(\u001b[0m\u001b[0mwde\u001b[0m\u001b[1;33m.\u001b[0m\u001b[0mmsg\u001b[0m\u001b[1;33m,\u001b[0m \u001b[0mwde\u001b[0m\u001b[1;33m.\u001b[0m\u001b[0mscreen\u001b[0m\u001b[1;33m,\u001b[0m \u001b[0mwde\u001b[0m\u001b[1;33m.\u001b[0m\u001b[0mstacktrace\u001b[0m\u001b[1;33m)\u001b[0m \u001b[1;32mfrom\u001b[0m \u001b[0mwde\u001b[0m\u001b[1;33m\u001b[0m\u001b[1;33m\u001b[0m\u001b[0m\n\u001b[0;32m     30\u001b[0m             \u001b[1;32melse\u001b[0m\u001b[1;33m:\u001b[0m\u001b[1;33m\u001b[0m\u001b[1;33m\u001b[0m\u001b[0m\n\u001b[1;32m---> 31\u001b[1;33m                 \u001b[1;32mraise\u001b[0m \u001b[0mwde\u001b[0m\u001b[1;33m\u001b[0m\u001b[1;33m\u001b[0m\u001b[0m\n\u001b[0m",
      "\u001b[1;32mc:\\users\\binay goyal\\appdata\\local\\programs\\python\\python37-32\\lib\\site-packages\\appium\\webdriver\\errorhandler.py\u001b[0m in \u001b[0;36mcheck_response\u001b[1;34m(self, response)\u001b[0m\n\u001b[0;32m     24\u001b[0m     \u001b[1;32mdef\u001b[0m \u001b[0mcheck_response\u001b[0m\u001b[1;33m(\u001b[0m\u001b[0mself\u001b[0m\u001b[1;33m,\u001b[0m \u001b[0mresponse\u001b[0m\u001b[1;33m:\u001b[0m \u001b[0mDict\u001b[0m\u001b[1;33m)\u001b[0m \u001b[1;33m->\u001b[0m \u001b[1;32mNone\u001b[0m\u001b[1;33m:\u001b[0m\u001b[1;33m\u001b[0m\u001b[1;33m\u001b[0m\u001b[0m\n\u001b[0;32m     25\u001b[0m         \u001b[1;32mtry\u001b[0m\u001b[1;33m:\u001b[0m\u001b[1;33m\u001b[0m\u001b[1;33m\u001b[0m\u001b[0m\n\u001b[1;32m---> 26\u001b[1;33m             \u001b[0msuper\u001b[0m\u001b[1;33m(\u001b[0m\u001b[1;33m)\u001b[0m\u001b[1;33m.\u001b[0m\u001b[0mcheck_response\u001b[0m\u001b[1;33m(\u001b[0m\u001b[0mresponse\u001b[0m\u001b[1;33m)\u001b[0m\u001b[1;33m\u001b[0m\u001b[1;33m\u001b[0m\u001b[0m\n\u001b[0m\u001b[0;32m     27\u001b[0m         \u001b[1;32mexcept\u001b[0m \u001b[0mWebDriverException\u001b[0m \u001b[1;32mas\u001b[0m \u001b[0mwde\u001b[0m\u001b[1;33m:\u001b[0m\u001b[1;33m\u001b[0m\u001b[1;33m\u001b[0m\u001b[0m\n\u001b[0;32m     28\u001b[0m             \u001b[1;32mif\u001b[0m \u001b[0mwde\u001b[0m\u001b[1;33m.\u001b[0m\u001b[0mmsg\u001b[0m \u001b[1;33m==\u001b[0m \u001b[1;34m'No such context found.'\u001b[0m\u001b[1;33m:\u001b[0m\u001b[1;33m\u001b[0m\u001b[1;33m\u001b[0m\u001b[0m\n",
      "\u001b[1;32mc:\\users\\binay goyal\\appdata\\local\\programs\\python\\python37-32\\lib\\site-packages\\selenium\\webdriver\\remote\\errorhandler.py\u001b[0m in \u001b[0;36mcheck_response\u001b[1;34m(self, response)\u001b[0m\n\u001b[0;32m    240\u001b[0m                 \u001b[0malert_text\u001b[0m \u001b[1;33m=\u001b[0m \u001b[0mvalue\u001b[0m\u001b[1;33m[\u001b[0m\u001b[1;34m'alert'\u001b[0m\u001b[1;33m]\u001b[0m\u001b[1;33m.\u001b[0m\u001b[0mget\u001b[0m\u001b[1;33m(\u001b[0m\u001b[1;34m'text'\u001b[0m\u001b[1;33m)\u001b[0m\u001b[1;33m\u001b[0m\u001b[1;33m\u001b[0m\u001b[0m\n\u001b[0;32m    241\u001b[0m             \u001b[1;32mraise\u001b[0m \u001b[0mexception_class\u001b[0m\u001b[1;33m(\u001b[0m\u001b[0mmessage\u001b[0m\u001b[1;33m,\u001b[0m \u001b[0mscreen\u001b[0m\u001b[1;33m,\u001b[0m \u001b[0mstacktrace\u001b[0m\u001b[1;33m,\u001b[0m \u001b[0malert_text\u001b[0m\u001b[1;33m)\u001b[0m\u001b[1;33m\u001b[0m\u001b[1;33m\u001b[0m\u001b[0m\n\u001b[1;32m--> 242\u001b[1;33m         \u001b[1;32mraise\u001b[0m \u001b[0mexception_class\u001b[0m\u001b[1;33m(\u001b[0m\u001b[0mmessage\u001b[0m\u001b[1;33m,\u001b[0m \u001b[0mscreen\u001b[0m\u001b[1;33m,\u001b[0m \u001b[0mstacktrace\u001b[0m\u001b[1;33m)\u001b[0m\u001b[1;33m\u001b[0m\u001b[1;33m\u001b[0m\u001b[0m\n\u001b[0m\u001b[0;32m    243\u001b[0m \u001b[1;33m\u001b[0m\u001b[0m\n\u001b[0;32m    244\u001b[0m     \u001b[1;32mdef\u001b[0m \u001b[0m_value_or_default\u001b[0m\u001b[1;33m(\u001b[0m\u001b[0mself\u001b[0m\u001b[1;33m,\u001b[0m \u001b[0mobj\u001b[0m\u001b[1;33m,\u001b[0m \u001b[0mkey\u001b[0m\u001b[1;33m,\u001b[0m \u001b[0mdefault\u001b[0m\u001b[1;33m)\u001b[0m\u001b[1;33m:\u001b[0m\u001b[1;33m\u001b[0m\u001b[1;33m\u001b[0m\u001b[0m\n",
      "\u001b[1;31mNoSuchElementException\u001b[0m: Message: An element could not be located on the page using the given search parameters.\n"
     ]
    }
   ],
   "source": [
    "############################################################################\n",
    "### forwarding new messages from the the last chat to some other contact ###\n",
    "############################################################################ \n",
    "\n",
    "\n",
    "contact = input(\"Forward to: \")\n",
    "\n",
    "last_chat = driver.find_element_by_xpath(\"/hierarchy/android.widget.FrameLayout/android.widget.LinearLayout/android.widget.FrameLayout/android.widget.FrameLayout/android.widget.FrameLayout/android.widget.FrameLayout/android.widget.LinearLayout/android.widget.FrameLayout/android.widget.FrameLayout/androidx.viewpager.widget.ViewPager/android.widget.LinearLayout/android.widget.ListView/android.widget.RelativeLayout[1]\")\n",
    "last_chat.click()\n",
    "\n",
    "time.sleep(1)\n",
    "\n",
    "# selecting the last message\n",
    "msgs_list = driver.find_element_by_xpath('/hierarchy/android.widget.FrameLayout/android.widget.LinearLayout/android.widget.FrameLayout/android.widget.FrameLayout/android.widget.FrameLayout/android.widget.LinearLayout/android.widget.RelativeLayout/android.widget.ListView')\n",
    "msgs= msgs_list.find_elements_by_class_name('android.view.ViewGroup')\n",
    "last_msg = driver.find_element_by_xpath(\"/hierarchy/android.widget.FrameLayout/android.widget.LinearLayout/android.widget.FrameLayout/android.widget.FrameLayout/android.widget.FrameLayout/android.widget.LinearLayout/android.widget.RelativeLayout/android.widget.ListView/android.view.ViewGroup[\"+str(len(msgs))+\"]\")\n",
    "\n",
    "actions = TouchAction(driver)\n",
    "actions.long_press(last_msg)\n",
    "actions.perform()\n",
    "\n",
    "time.sleep(1)\n",
    "\n",
    "# forwarding\n",
    "forward_option = driver.find_element_by_accessibility_id(\"More options\")\n",
    "forward_option.click()\n",
    "\n",
    "time.sleep(1)\n",
    "\n",
    "# searching the contact to whom the message needs to be forwarded\n",
    "search_button = driver.find_element_by_accessibility_id(\"Search\")\n",
    "search_button.click()\n",
    "\n",
    "time.sleep(1)\n",
    "\n",
    "el1 = driver.find_element_by_id(\"com.whatsapp:id/search_src_text\")\n",
    "el1.click()\n",
    "\n",
    "time.sleep(1)\n",
    "\n",
    "el1.send_keys(contact)\n",
    "\n",
    "time.sleep(1)\n",
    "\n",
    "# selecting first contact that appears on searching\n",
    "el2 = driver.find_element_by_xpath(\"/hierarchy/android.widget.FrameLayout/android.widget.LinearLayout/android.widget.FrameLayout/android.widget.FrameLayout/android.widget.FrameLayout/android.widget.FrameLayout/android.widget.FrameLayout/android.widget.LinearLayout/android.widget.FrameLayout[2]/android.widget.ListView/android.widget.RelativeLayout[1]/android.widget.RelativeLayout/android.widget.LinearLayout\")\n",
    "el2.click()\n",
    "\n",
    "time.sleep(1)\n",
    "\n",
    "# sending\n",
    "send_button = driver.find_element_by_accessibility_id(\"Send\")\n",
    "send_button.click()\n",
    "\n",
    "time.sleep(1)\n",
    "\n",
    "#going back to whatsapp home page\n",
    "back_button = driver.find_element_by_id(\"com.whatsapp:id/whatsapp_toolbar_home\")\n",
    "back_button.click()"
   ]
  },
  {
   "cell_type": "code",
   "execution_count": null,
   "id": "e5301b10",
   "metadata": {},
   "outputs": [],
   "source": [
    "###########################################\n",
    "###  deleting last message from a chat  ###\n",
    "###########################################\n",
    "\n",
    "contact=input(\"Contact name:\")\n",
    "\n",
    "# calling search function\n",
    "search(contact)\n",
    "\n",
    "a1 = driver.find_element_by_xpath(\"/hierarchy/android.widget.FrameLayout/android.widget.LinearLayout/android.widget.FrameLayout/android.widget.FrameLayout/android.widget.FrameLayout/android.widget.FrameLayout/android.widget.LinearLayout/android.widget.FrameLayout/android.widget.FrameLayout[2]/android.widget.LinearLayout/androidx.recyclerview.widget.RecyclerView/android.widget.RelativeLayout[1]\")\n",
    "a1.click()\n",
    "\n",
    "# selecting the last message\n",
    "msgs_list = driver.find_element_by_xpath('/hierarchy/android.widget.FrameLayout/android.widget.LinearLayout/android.widget.FrameLayout/android.widget.FrameLayout/android.widget.FrameLayout/android.widget.LinearLayout/android.widget.RelativeLayout/android.widget.ListView')\n",
    "msgs= msgs_list.find_elements_by_class_name('android.view.ViewGroup')\n",
    "last_msg = driver.find_element_by_xpath(\"/hierarchy/android.widget.FrameLayout/android.widget.LinearLayout/android.widget.FrameLayout/android.widget.FrameLayout/android.widget.FrameLayout/android.widget.LinearLayout/android.widget.RelativeLayout/android.widget.ListView/android.view.ViewGroup[\"+str(len(msgs))+\"]\")\n",
    "\n",
    "actions = TouchAction(driver)\n",
    "actions.long_press(last_msg)\n",
    "actions.perform()\n",
    "\n",
    "time.sleep(1)\n",
    "\n",
    "# deleting\n",
    "delete_button = driver.find_element_by_accessibility_id(\"Video call\")\n",
    "delete_button.click()\n",
    "\n",
    "time.sleep(1)\n",
    "\n",
    "deleteforme = driver.find_element_by_id(\"android:id/button1\")\n",
    "cancel_button = driver.find_element_by_id(\"android:id/button2\")\n",
    "deleteforeveryone = driver.find_element_by_id(\"android:id/button3\")\n",
    "\n",
    "deleteforme.click()\n",
    "# deleteforeveryone.click()\n",
    "\n",
    "# going back to home page \n",
    "a2 = driver.find_element_by_id(\"com.whatsapp:id/whatsapp_toolbar_home\")\n",
    "a2.click()"
   ]
  },
  {
   "cell_type": "code",
   "execution_count": 14,
   "id": "mighty-proposition",
   "metadata": {},
   "outputs": [],
   "source": [
    "\n",
    "##clicking unread divider\n",
    "# el2 = driver.find_element_by_id(\"com.whatsapp:id/unread_divider_tv\")\n",
    "# el2.click()\n",
    "\n",
    "\n",
    "\n",
    "### clicking new chat button ###\n",
    "# el1 = driver.find_element_by_id(\"com.whatsapp:id/fab\")\n",
    "# el1.click()\n"
   ]
  },
  {
   "cell_type": "code",
   "execution_count": 21,
   "id": "oriental-holder",
   "metadata": {},
   "outputs": [
    {
     "data": {
      "text/plain": [
       "'1'"
      ]
     },
     "execution_count": 21,
     "metadata": {},
     "output_type": "execute_result"
    }
   ],
   "source": [
    "### returning number of unread messages from a chat ###\n",
    "\n",
    "chat = driver.find_element_by_xpath('/hierarchy/android.widget.FrameLayout/android.widget.LinearLayout/android.widget.FrameLayout/android.widget.FrameLayout/android.widget.FrameLayout/android.widget.FrameLayout/android.widget.LinearLayout/android.widget.FrameLayout/android.widget.FrameLayout/androidx.viewpager.widget.ViewPager/android.widget.LinearLayout/android.widget.ListView/android.widget.RelativeLayout[1]')\n",
    "chat.find_element_by_id('com.whatsapp:id/conversations_row_message_count').text\n"
   ]
  },
  {
   "cell_type": "code",
   "execution_count": 23,
   "id": "informed-disposition",
   "metadata": {},
   "outputs": [
    {
     "name": "stdout",
     "output_type": "stream",
     "text": [
      "1\n",
      "2\n"
     ]
    }
   ],
   "source": [
    "### returning number of unread messages from the unread chats appearing on the screen ###\n",
    "\n",
    "for el in driver.find_elements_by_id('com.whatsapp:id/conversations_row_message_count'):\n",
    "    print(el.text)"
   ]
  },
  {
   "cell_type": "code",
   "execution_count": 73,
   "id": "impossible-marsh",
   "metadata": {},
   "outputs": [
    {
     "data": {
      "text/plain": [
       "<appium.webdriver.webelement.WebElement (session=\"820b7101-caf1-4645-a4d5-a2b2c6a99925\", element=\"adfbf036-2f04-43ea-844f-8b0abc18a9f8\")>"
      ]
     },
     "execution_count": 73,
     "metadata": {},
     "output_type": "execute_result"
    }
   ],
   "source": [
    "#######################\n",
    "### sending message ###\n",
    "#######################\n",
    "\n",
    "\n",
    "el3 = driver.find_element_by_id(\"com.whatsapp:id/entry\")\n",
    "el3.click()\n",
    "el3.send_keys(\"Hello!\\nChoose an option from the below:\\n1 Issues related to your orders\\n2 Query about a product\\n3 Need help ordering something\\n4 Talk to customer service guy\")\n",
    "el4 = driver.find_element_by_accessibility_id(\"Send\")\n",
    "el4.click()"
   ]
  },
  {
   "cell_type": "code",
   "execution_count": 31,
   "id": "express-judgment",
   "metadata": {},
   "outputs": [],
   "source": [
    "### switcher ###\n",
    "\n",
    "def first1():\n",
    "    return \"Please, choose an option from the below:\\n1 Last order\\n2 Orders from last 6 months\\n3 Orders older than 6 months\\n\"\n",
    "\n",
    "def first2(option):\n",
    "    switcher = {\n",
    "        1: \"Expiry Date\",\n",
    "        2: \"Directions to use\",\n",
    "        3: \"\",\n",
    "    }    \n",
    "    return switcher.get(option, \"choose between the given options only\")\n",
    "\n",
    "\n",
    "def first(option):\n",
    "    switcher = {\n",
    "        1: first1(),\n",
    "        2: first2(),\n",
    "        3: \"please call at **********\",\n",
    "    }\n",
    "  \n",
    "    # get() method of dictionary data type returns \n",
    "    # value of passed argument if it is present \n",
    "    # in dictionary otherwise second argument will\n",
    "    # be assigned as default value of passed argument\n",
    "    \n",
    "    return switcher.get(option, \"choose between the given options only\")\n"
   ]
  },
  {
   "cell_type": "code",
   "execution_count": null,
   "id": "hairy-shanghai",
   "metadata": {},
   "outputs": [],
   "source": []
  },
  {
   "cell_type": "code",
   "execution_count": null,
   "id": "abroad-click",
   "metadata": {},
   "outputs": [],
   "source": []
  },
  {
   "cell_type": "code",
   "execution_count": null,
   "id": "lasting-cartridge",
   "metadata": {},
   "outputs": [],
   "source": []
  },
  {
   "cell_type": "code",
   "execution_count": 32,
   "id": "progressive-beijing",
   "metadata": {},
   "outputs": [
    {
     "name": "stdout",
     "output_type": "stream",
     "text": [
      "Hi\n",
      "3\n",
      "hehe\n"
     ]
    }
   ],
   "source": [
    "#####################################################################\n",
    "####     chatting with a contact who has sent a new message     #####\n",
    "#####################################################################\n",
    "\n",
    "driver = webdriver.Remote('http://127.0.0.1:4723/wd/hub',desired_caps)\n",
    "\n",
    "contact = input(\"Chat: \")\n",
    "search(contact)\n",
    "\n",
    "time.sleep(1)\n",
    "\n",
    "chat = driver.find_element_by_xpath(\"/hierarchy/android.widget.FrameLayout/android.widget.LinearLayout/android.widget.FrameLayout/android.widget.FrameLayout/android.widget.FrameLayout/android.widget.FrameLayout/android.widget.LinearLayout/android.widget.FrameLayout/android.widget.FrameLayout[2]/android.widget.LinearLayout/androidx.recyclerview.widget.RecyclerView/android.widget.RelativeLayout/android.widget.LinearLayout\")\n",
    "# last_chat = driver.find_element_by_xpath('/hierarchy/android.widget.FrameLayout/android.widget.LinearLayout/android.widget.FrameLayout/android.widget.FrameLayout/android.widget.FrameLayout/android.widget.FrameLayout/android.widget.LinearLayout/android.widget.FrameLayout/android.widget.FrameLayout/androidx.viewpager.widget.ViewPager/android.widget.LinearLayout/android.widget.ListView/android.widget.RelativeLayout[1]')\n",
    "\n",
    "contact_name = chat.find_element_by_id('com.whatsapp:id/conversations_row_contact_name').text\n",
    "time.sleep(1)\n",
    "\n",
    "# try:\n",
    "unread_msgs = chat.find_element_by_id('com.whatsapp:id/conversations_row_message_count').text\n",
    "chat.click()\n",
    "\n",
    "time.sleep(1)    \n",
    "\n",
    "msgs_list = driver.find_element_by_xpath('/hierarchy/android.widget.FrameLayout/android.widget.LinearLayout/android.widget.FrameLayout/android.widget.FrameLayout/android.widget.FrameLayout/android.widget.LinearLayout/android.widget.RelativeLayout/android.widget.ListView')\n",
    "msgs= msgs_list.find_elements_by_class_name('android.view.ViewGroup')\n",
    "last_msg = driver.find_element_by_xpath(\"/hierarchy/android.widget.FrameLayout/android.widget.LinearLayout/android.widget.FrameLayout/android.widget.FrameLayout/android.widget.FrameLayout/android.widget.LinearLayout/android.widget.RelativeLayout/android.widget.ListView/android.view.ViewGroup[\"+str(len(msgs))+\"]/android.widget.LinearLayout/android.widget.FrameLayout/android.widget.TextView\")\n",
    "\n",
    "time.sleep(1)\n",
    "\n",
    "m=last_msg.text\n",
    "print(m)\n",
    "\n",
    "text_box = driver.find_element_by_id(\"com.whatsapp:id/entry\")\n",
    "# if m =='Hi':\n",
    "text_box.click()\n",
    "text_box.send_keys(\"Hello!\\nChoose an option from the below:\\n1 Issues related to your orders\\n2 Query about a product\\n3 Need help ordering something\\n4 Talk to customer service guy\")\n",
    "send_button = driver.find_element_by_accessibility_id(\"Send\")\n",
    "send_button.click()\n",
    "\n",
    "# else:\n",
    "# #going back to whatsapp home page\n",
    "# back_button = driver.find_element_by_id(\"com.whatsapp:id/whatsapp_toolbar_home\")\n",
    "# back_button.click()\n",
    "\n",
    "time.sleep(5)    \n",
    "\n",
    "# msgs_list1 = driver.find_element_by_xpath('/hierarchy/android.widget.FrameLayout/android.widget.LinearLayout/android.widget.FrameLayout/android.widget.FrameLayout/android.widget.FrameLayout/android.widget.LinearLayout/android.widget.RelativeLayout/android.widget.ListView')\n",
    "msgs= msgs_list.find_elements_by_class_name('android.view.ViewGroup')\n",
    "last_msg = driver.find_element_by_xpath(\"/hierarchy/android.widget.FrameLayout/android.widget.LinearLayout/android.widget.FrameLayout/android.widget.FrameLayout/android.widget.FrameLayout/android.widget.LinearLayout/android.widget.RelativeLayout/android.widget.ListView/android.view.ViewGroup[\"+str(len(msgs))+\"]/android.widget.LinearLayout/android.widget.FrameLayout/android.widget.TextView\")\n",
    "\n",
    "time.sleep(1)\n",
    "\n",
    "option=last_msg.text\n",
    "print(option)\n",
    "\n",
    "time.sleep(1)\n",
    "\n",
    "###### text_box = driver.find_element_by_id(\"com.whatsapp:id/entry\")\n",
    "text_box.click()\n",
    "text_box.send_keys(first(int(option)))\n",
    "send_button = driver.find_element_by_accessibility_id(\"Send\")\n",
    "send_button.click()\n",
    "\n",
    "time.sleep(5)    \n",
    "\n",
    "msgs= msgs_list.find_elements_by_class_name('android.view.ViewGroup')\n",
    "last_msg = driver.find_element_by_xpath(\"/hierarchy/android.widget.FrameLayout/android.widget.LinearLayout/android.widget.FrameLayout/android.widget.FrameLayout/android.widget.FrameLayout/android.widget.LinearLayout/android.widget.RelativeLayout/android.widget.ListView/android.view.ViewGroup[\"+str(len(msgs))+\"]/android.widget.LinearLayout/android.widget.FrameLayout/android.widget.TextView\")\n",
    "\n",
    "time.sleep(1)\n",
    "\n",
    "option=last_msg.text\n",
    "print(option)\n",
    "\n",
    "time.sleep(1)\n",
    "\n",
    "text_box.click()\n",
    "text_box.send_keys(\"Here it is\")\n",
    "send_button = driver.find_element_by_accessibility_id(\"Send\")\n",
    "send_button.click()\n",
    "\n",
    "    \n",
    "    \n",
    "    \n",
    "    \n",
    "# except:\n",
    "#     print('No new messages from '+ contact_name)\n",
    "#     try:\n",
    "#         #going back to whatsapp home page\n",
    "#         back = driver.find_element_by_accessibility_id(\"Back\")\n",
    "#         back.click()\n",
    "#     except:\n",
    "#         #going back to whatsapp home page\n",
    "#         back_button = driver.find_element_by_id(\"com.whatsapp:id/whatsapp_toolbar_home\")\n",
    "#         back_button.click()"
   ]
  },
  {
   "cell_type": "code",
   "execution_count": 8,
   "id": "logical-parker",
   "metadata": {},
   "outputs": [],
   "source": [
    "db_host=\"localhost\"\n",
    "db_name=\"postgres\"\n",
    "db_user=\"postgres\"\n",
    "db_password=\"1binay1\"\n"
   ]
  },
  {
   "cell_type": "code",
   "execution_count": null,
   "id": "corporate-smart",
   "metadata": {},
   "outputs": [],
   "source": []
  },
  {
   "cell_type": "code",
   "execution_count": 35,
   "id": "behind-imperial",
   "metadata": {},
   "outputs": [
    {
     "name": "stdout",
     "output_type": "stream",
     "text": [
      "9056533803\n"
     ]
    }
   ],
   "source": [
    "######################################\n",
    "#####    database connection    ######\n",
    "######################################\n",
    "\n",
    "\n",
    "##### establishing the connection\n",
    "conn = psycopg2.connect(database=db_name, user=db_user, password=db_password, host=db_host, port= '5432')\n",
    "\n",
    "##### creating a cursor, which allows us to execute sql statements\n",
    "# cursor = conn.cursor()\n",
    "\n",
    "cursor = conn.cursor(cursor_factory=psycopg2.extras.DictCursor)\n",
    "\n",
    "\n",
    "##### executing sql statements\n",
    "cursor.execute(\"create table customer_details(id serial primary key,customer_name varchar(20),contact_number varchar(10) NOT NULL);\")\n",
    "cursor.execute(\"insert into customer_details (customer_name, contact_number) values ('Binay Goyal','9056533803');insert into customer_details values (default,'RJ','7696236401');insert into customer_details (id,customer_name,contact_number) values (default,'Akshu','9780060487');insert into customer_details (contact_number) values ('9501057990');\")\n",
    "cursor.execute(\"select * from customer_details;\")\n",
    "# print(cursor.fetchall())\n",
    "\n",
    "### Fetch a single row using fetchone() method.\n",
    "# print(cursor.fetchone())\n",
    "print(cursor.fetchone()['contact_number'])\n",
    "\n",
    "\n",
    "##### cursor.execute(\"drop table customer_details;\")\n",
    "\n",
    "##### saving whatever we run before this\n",
    "conn.commit()\n",
    "\n",
    "##### closing the connection\n",
    "conn.close()"
   ]
  },
  {
   "cell_type": "code",
   "execution_count": null,
   "id": "metropolitan-graduate",
   "metadata": {},
   "outputs": [],
   "source": []
  },
  {
   "cell_type": "code",
   "execution_count": null,
   "id": "sapphire-villa",
   "metadata": {},
   "outputs": [],
   "source": [
    "########################################\n",
    "######  Storing Personal details  ######\n",
    "########################################\n",
    "\n",
    "cust_name='Jagriti'\n",
    "cust_contact='1234567890'\n",
    "conn = psycopg2.connect(database=db_name, user=db_user, password=db_password, host=db_host, port= '5432')\n",
    "cursor = conn.cursor(cursor_factory=psycopg2.extras.DictCursor)\n",
    "try:\n",
    "    cursor.execute(\"create table customer_details(id serial primary key,customer_name varchar,contact_number varchar NOT NULL);\")\n",
    "except:\n",
    "    conn.rollback()\n",
    "    \n",
    "cursor.execute(\"insert into customer_details values (default,\\'\"+cust_name+\"\\',\\'\"+cust_contact+\"\\');\")\n",
    "\n",
    "cursor.execute(\"select * from customer_details;\")\n",
    "print(cursor.fetchall())\n",
    "# cursor.execute(\"drop table customer_details;\")\n",
    "\n",
    "conn.commit()\n",
    "conn.close();"
   ]
  },
  {
   "cell_type": "code",
   "execution_count": null,
   "id": "efficient-argument",
   "metadata": {},
   "outputs": [],
   "source": [
    "# service status, previous record, "
   ]
  },
  {
   "cell_type": "code",
   "execution_count": 9,
   "id": "sized-animal",
   "metadata": {},
   "outputs": [
    {
     "name": "stdout",
     "output_type": "stream",
     "text": [
      "Chat: jashu\n",
      "Bilu bhaiya\n",
      "Jagriti\n",
      "8699799099\n",
      "[[1, 'Jagriti', '1234567890'], [2, 'Jagriti', '1234567890'], [3, 'Jagriti', '1234567890'], [4, 'Jagriti', '8699799099']]\n"
     ]
    }
   ],
   "source": [
    "driver = webdriver.Remote('http://127.0.0.1:4723/wd/hub',desired_caps)\n",
    "\n",
    "contact = input(\"Chat: \")\n",
    "search(contact)\n",
    "\n",
    "time.sleep(1)\n",
    "\n",
    "chat = driver.find_element_by_xpath(\"/hierarchy/android.widget.FrameLayout/android.widget.LinearLayout/android.widget.FrameLayout/android.widget.FrameLayout/android.widget.FrameLayout/android.widget.FrameLayout/android.widget.LinearLayout/android.widget.FrameLayout/android.widget.FrameLayout[2]/android.widget.LinearLayout/androidx.recyclerview.widget.RecyclerView/android.widget.RelativeLayout/android.widget.LinearLayout\")\n",
    "# last_chat = driver.find_element_by_xpath('/hierarchy/android.widget.FrameLayout/android.widget.LinearLayout/android.widget.FrameLayout/android.widget.FrameLayout/android.widget.FrameLayout/android.widget.FrameLayout/android.widget.LinearLayout/android.widget.FrameLayout/android.widget.FrameLayout/androidx.viewpager.widget.ViewPager/android.widget.LinearLayout/android.widget.ListView/android.widget.RelativeLayout[1]')\n",
    "\n",
    "contact_name = chat.find_element_by_id('com.whatsapp:id/conversations_row_contact_name').text\n",
    "time.sleep(1)\n",
    "\n",
    "# try:\n",
    "unread_msgs = chat.find_element_by_id('com.whatsapp:id/conversations_row_message_count').text\n",
    "chat.click()\n",
    "\n",
    "time.sleep(1)    \n",
    "\n",
    "# different buttons\n",
    "back_button = driver.find_element_by_id(\"com.whatsapp:id/whatsapp_toolbar_home\")\n",
    "text_box = driver.find_element_by_id(\"com.whatsapp:id/entry\")\n",
    "\n",
    "\n",
    "msgs_list = driver.find_element_by_xpath('/hierarchy/android.widget.FrameLayout/android.widget.LinearLayout/android.widget.FrameLayout/android.widget.FrameLayout/android.widget.FrameLayout/android.widget.LinearLayout/android.widget.RelativeLayout/android.widget.ListView')\n",
    "msgs= msgs_list.find_elements_by_class_name('android.view.ViewGroup')\n",
    "last_msg = driver.find_element_by_xpath(\"/hierarchy/android.widget.FrameLayout/android.widget.LinearLayout/android.widget.FrameLayout/android.widget.FrameLayout/android.widget.FrameLayout/android.widget.LinearLayout/android.widget.RelativeLayout/android.widget.ListView/android.view.ViewGroup[\"+str(len(msgs))+\"]/android.widget.LinearLayout/android.widget.FrameLayout/android.widget.TextView\")\n",
    "\n",
    "time.sleep(1)\n",
    "\n",
    "m=last_msg.text\n",
    "print(m)\n",
    "\n",
    "# Personal details\n",
    "# name\n",
    "text_box.click()\n",
    "text_box.send_keys(\"Hello!\\nPlease help us with the following details\\nWhat's your good name?\")\n",
    "send_button = driver.find_element_by_accessibility_id(\"Send\")\n",
    "send_button.click()\n",
    "\n",
    "time.sleep(15)\n",
    "##### OR\n",
    "# back_button.click()\n",
    "# search(contact)\n",
    "# time.sleep(1)\n",
    "# chat = driver.find_element_by_xpath(\"/hierarchy/android.widget.FrameLayout/android.widget.LinearLayout/android.widget.FrameLayout/android.widget.FrameLayout/android.widget.FrameLayout/android.widget.FrameLayout/android.widget.LinearLayout/android.widget.FrameLayout/android.widget.FrameLayout[2]/android.widget.LinearLayout/androidx.recyclerview.widget.RecyclerView/android.widget.RelativeLayout/android.widget.LinearLayout\")\n",
    "# unread_msgs = chat.find_element_by_id('com.whatsapp:id/conversations_row_message_count').text\n",
    "# chat.click()\n",
    "# time.sleep(1)    \n",
    "\n",
    "msgs= msgs_list.find_elements_by_class_name('android.view.ViewGroup')\n",
    "last_msg = driver.find_element_by_xpath(\"/hierarchy/android.widget.FrameLayout/android.widget.LinearLayout/android.widget.FrameLayout/android.widget.FrameLayout/android.widget.FrameLayout/android.widget.LinearLayout/android.widget.RelativeLayout/android.widget.ListView/android.view.ViewGroup[\"+str(len(msgs))+\"]/android.widget.LinearLayout/android.widget.FrameLayout/android.widget.TextView\")\n",
    "\n",
    "\n",
    "cust_name=last_msg.text\n",
    "print(cust_name)\n",
    "\n",
    "\n",
    "# contact number\n",
    "text_box.click()\n",
    "text_box.send_keys(\"What's your contact number?\")\n",
    "send_button = driver.find_element_by_accessibility_id(\"Send\")\n",
    "send_button.click()\n",
    "\n",
    "time.sleep(15)\n",
    "\n",
    "msgs= msgs_list.find_elements_by_class_name('android.view.ViewGroup')\n",
    "last_msg = driver.find_element_by_xpath(\"/hierarchy/android.widget.FrameLayout/android.widget.LinearLayout/android.widget.FrameLayout/android.widget.FrameLayout/android.widget.FrameLayout/android.widget.LinearLayout/android.widget.RelativeLayout/android.widget.ListView/android.view.ViewGroup[\"+str(len(msgs))+\"]/android.widget.LinearLayout/android.widget.FrameLayout/android.widget.TextView\")\n",
    "\n",
    "cust_contact=last_msg.text\n",
    "print(cust_contact)\n",
    "\n",
    "conn = psycopg2.connect(database=db_name, user=db_user, password=db_password, host=db_host, port= '5432')\n",
    "cursor = conn.cursor(cursor_factory=psycopg2.extras.DictCursor)\n",
    "\n",
    "try:\n",
    "    cursor.execute(\"create table customer_details(id serial primary key,customer_name varchar,contact_number varchar NOT NULL, completion_status boolean);\")\n",
    "except:\n",
    "    conn.rollback()\n",
    "\n",
    "cursor.execute(\"insert into customer_details values (default,\\'\"+cust_name+\"\\',\\'\"+cust_contact+\"\\');\")\n",
    "\n",
    "cursor.execute(\"select * from customer_details;\")\n",
    "print(cursor.fetchall())\n",
    "###############cursor.execute(\"drop table customer_details;\")\n",
    "\n",
    "conn.commit()\n",
    "conn.close();"
   ]
  },
  {
   "cell_type": "code",
   "execution_count": null,
   "id": "complex-canal",
   "metadata": {},
   "outputs": [],
   "source": []
  },
  {
   "cell_type": "code",
   "execution_count": 83,
   "id": "stupid-payroll",
   "metadata": {},
   "outputs": [
    {
     "name": "stdout",
     "output_type": "stream",
     "text": [
      "[[1, 'Jagriti', '1234567890'], [2, 'Jagriti', '1234567890'], [3, 'Jagriti', '1234567890']]\n"
     ]
    }
   ],
   "source": []
  },
  {
   "cell_type": "code",
   "execution_count": 32,
   "id": "completed-dubai",
   "metadata": {},
   "outputs": [
    {
     "name": "stdout",
     "output_type": "stream",
     "text": [
      "Hi\n",
      "3\n",
      "hehe\n"
     ]
    }
   ],
   "source": [
    "text_box.click()\n",
    "text_box.send_keys(\"Hello!\\nChoose an option from the below:\\n1 Book a new order/service\\n2 Query about a product/service\\n4 Talk to customer service guy\")\n",
    "send_button = driver.find_element_by_accessibility_id(\"Send\")\n",
    "send_button.click()\n",
    "\n",
    "time.sleep(5)\n",
    "\n",
    "msgs= msgs_list.find_elements_by_class_name('android.view.ViewGroup')\n",
    "last_msg = driver.find_element_by_xpath(\"/hierarchy/android.widget.FrameLayout/android.widget.LinearLayout/android.widget.FrameLayout/android.widget.FrameLayout/android.widget.FrameLayout/android.widget.LinearLayout/android.widget.RelativeLayout/android.widget.ListView/android.view.ViewGroup[\"+str(len(msgs))+\"]/android.widget.LinearLayout/android.widget.FrameLayout/android.widget.TextView\")\n",
    "\n",
    "option=last_msg.text\n",
    "print(option)\n",
    "\n",
    "time.sleep(1)\n",
    "\n",
    "text_box.click()\n",
    "text_box.send_keys(first(int(option)))\n",
    "send_button = driver.find_element_by_accessibility_id(\"Send\")\n",
    "send_button.click()\n",
    "\n",
    "time.sleep(5)\n",
    "\n",
    "msgs= msgs_list.find_elements_by_class_name('android.view.ViewGroup')\n",
    "last_msg = driver.find_element_by_xpath(\"/hierarchy/android.widget.FrameLayout/android.widget.LinearLayout/android.widget.FrameLayout/android.widget.FrameLayout/android.widget.FrameLayout/android.widget.LinearLayout/android.widget.RelativeLayout/android.widget.ListView/android.view.ViewGroup[\"+str(len(msgs))+\"]/android.widget.LinearLayout/android.widget.FrameLayout/android.widget.TextView\")\n",
    "\n",
    "option=last_msg.text\n",
    "print(option)\n",
    "\n",
    "time.sleep(1)\n",
    "\n",
    "text_box.click()\n",
    "text_box.send_keys(\"Here it is\")\n",
    "send_button = driver.find_element_by_accessibility_id(\"Send\")\n",
    "send_button.click()\n",
    "\n",
    "    \n",
    "    \n",
    "    \n",
    "    \n",
    "# except:\n",
    "#     print('No new messages from '+ contact_name)\n",
    "#     try:\n",
    "#         #going back to whatsapp home page\n",
    "#         back = driver.find_element_by_accessibility_id(\"Back\")\n",
    "#         back.click()\n",
    "#     except:\n",
    "#         #going back to whatsapp home page\n",
    "#         back_button = driver.find_element_by_id(\"com.whatsapp:id/whatsapp_toolbar_home\")\n",
    "#         back_button.click()"
   ]
  }
 ],
 "metadata": {
  "kernelspec": {
   "display_name": "Python 3 (ipykernel)",
   "language": "python",
   "name": "python3"
  },
  "language_info": {
   "codemirror_mode": {
    "name": "ipython",
    "version": 3
   },
   "file_extension": ".py",
   "mimetype": "text/x-python",
   "name": "python",
   "nbconvert_exporter": "python",
   "pygments_lexer": "ipython3",
   "version": "3.9.6"
  }
 },
 "nbformat": 4,
 "nbformat_minor": 5
}
